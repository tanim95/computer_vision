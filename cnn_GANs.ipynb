{
  "nbformat": 4,
  "nbformat_minor": 0,
  "metadata": {
    "colab": {
      "provenance": [],
      "gpuType": "T4"
    },
    "kernelspec": {
      "name": "python3",
      "display_name": "Python 3"
    },
    "language_info": {
      "name": "python"
    },
    "accelerator": "GPU"
  },
  "cells": [
    {
      "cell_type": "code",
      "execution_count": 14,
      "metadata": {
        "id": "JmxzD6cTkp8_"
      },
      "outputs": [],
      "source": [
        "import numpy as np\n",
        "import pandas as pd\n",
        "import seaborn as sns\n",
        "import matplotlib.pyplot as plt\n",
        "import cv2\n",
        "import tensorflow as tf\n",
        "from keras.datasets import mnist"
      ]
    },
    {
      "cell_type": "code",
      "source": [
        "(X_train, y_train), (X_test, y_test) = mnist.load_data()"
      ],
      "metadata": {
        "id": "Ykn2bbw_k0on"
      },
      "execution_count": 15,
      "outputs": []
    },
    {
      "cell_type": "code",
      "source": [
        "single_img = X_train[50]\n",
        "plt.imshow(single_img,cmap = 'gray_r')\n",
        "plt.axis('off')"
      ],
      "metadata": {
        "colab": {
          "base_uri": "https://localhost:8080/",
          "height": 423
        },
        "id": "N0u4bp0gk5z4",
        "outputId": "ef2be858-aa36-440b-8b3b-fb6566a4ea89"
      },
      "execution_count": 16,
      "outputs": [
        {
          "output_type": "execute_result",
          "data": {
            "text/plain": [
              "(-0.5, 27.5, 27.5, -0.5)"
            ]
          },
          "metadata": {},
          "execution_count": 16
        },
        {
          "output_type": "display_data",
          "data": {
            "text/plain": [
              "<Figure size 640x480 with 1 Axes>"
            ],
            "image/png": "[encoded data removed]"
          },
          "metadata": {}
        }
      ]
    },
    {
      "cell_type": "code",
      "source": [
        "X_train.shape"
      ],
      "metadata": {
        "colab": {
          "base_uri": "https://localhost:8080/"
        },
        "id": "ox5QyMjpeLAI",
        "outputId": "bcaf0f30-fc34-47f7-95c5-c9ceef58c4da"
      },
      "execution_count": 17,
      "outputs": [
        {
          "output_type": "execute_result",
          "data": {
            "text/plain": [
              "(60000, 28, 28)"
            ]
          },
          "metadata": {},
          "execution_count": 17
        }
      ]
    },
    {
      "cell_type": "code",
      "source": [
        "# reshaping to 2d array\n",
        "x_train_flat = X_train.reshape(-1, 28  * 28  )\n",
        "x_test_flat = X_test.reshape(-1, 28  * 28)\n",
        "x_train_flat.shape"
      ],
      "metadata": {
        "id": "IHbIcDKXeQp3",
        "colab": {
          "base_uri": "https://localhost:8080/"
        },
        "outputId": "1aaed33f-7c36-4e09-ada4-d99c49f618ea"
      },
      "execution_count": 18,
      "outputs": [
        {
          "output_type": "execute_result",
          "data": {
            "text/plain": [
              "(60000, 784)"
            ]
          },
          "metadata": {},
          "execution_count": 18
        }
      ]
    },
    {
      "cell_type": "code",
      "source": [
        "from sklearn.preprocessing import MinMaxScaler"
      ],
      "metadata": {
        "id": "FVAp_hY5k92I"
      },
      "execution_count": 19,
      "outputs": []
    },
    {
      "cell_type": "code",
      "source": [
        "scaler  = MinMaxScaler()"
      ],
      "metadata": {
        "id": "SAxXPI01dQ28"
      },
      "execution_count": 20,
      "outputs": []
    },
    {
      "cell_type": "code",
      "source": [
        "normalised_xtrain = scaler.fit_transform(x_train_flat)\n",
        "normalised_xtest = scaler.transform(x_test_flat)"
      ],
      "metadata": {
        "id": "AgrjEOSDdXj6"
      },
      "execution_count": 21,
      "outputs": []
    },
    {
      "cell_type": "code",
      "source": [
        "x_train = normalised_xtrain.reshape(-1,28,28,1)\n",
        "x_test = normalised_xtest.reshape(-1,28,28,1)\n",
        "x_train.shape"
      ],
      "metadata": {
        "colab": {
          "base_uri": "https://localhost:8080/"
        },
        "id": "YGBZOlBvevV8",
        "outputId": "58194aba-4d7b-4aec-d370-0f966f5a533d"
      },
      "execution_count": 22,
      "outputs": [
        {
          "output_type": "execute_result",
          "data": {
            "text/plain": [
              "(60000, 28, 28, 1)"
            ]
          },
          "metadata": {},
          "execution_count": 22
        }
      ]
    },
    {
      "cell_type": "code",
      "source": [
        "plt.imshow(x_train[50],cmap = 'gray_r')\n",
        "plt.axis('off')"
      ],
      "metadata": {
        "colab": {
          "base_uri": "https://localhost:8080/",
          "height": 423
        },
        "id": "UaZBQxJnfyFL",
        "outputId": "e73fb0e0-2f05-4776-c5a4-a996fb9fda29"
      },
      "execution_count": 23,
      "outputs": [
        {
          "output_type": "execute_result",
          "data": {
            "text/plain": [
              "(-0.5, 27.5, 27.5, -0.5)"
            ]
          },
          "metadata": {},
          "execution_count": 23
        },
        {
          "output_type": "display_data",
          "data": {
            "text/plain": [
              "<Figure size 640x480 with 1 Axes>"
            ],
            "image/png": "[encoded data removed]"
          },
          "metadata": {}
        }
      ]
    },
    {
      "cell_type": "code",
      "source": [
        "y_train_categorical = tf.keras.utils.to_categorical(y_train, num_classes=10)\n",
        "y_test_categorical = tf.keras.utils.to_categorical(y_test, num_classes=10)\n",
        "y_train_categorical"
      ],
      "metadata": {
        "colab": {
          "base_uri": "https://localhost:8080/"
        },
        "id": "5shlgdvYjKRj",
        "outputId": "3e9ee2d2-fd7a-4830-98b1-ccb0a54f924d"
      },
      "execution_count": 24,
      "outputs": [
        {
          "output_type": "execute_result",
          "data": {
            "text/plain": [
              "array([[0., 0., 0., ..., 0., 0., 0.],\n",
              "       [1., 0., 0., ..., 0., 0., 0.],\n",
              "       [0., 0., 0., ..., 0., 0., 0.],\n",
              "       ...,\n",
              "       [0., 0., 0., ..., 0., 0., 0.],\n",
              "       [0., 0., 0., ..., 0., 0., 0.],\n",
              "       [0., 0., 0., ..., 0., 1., 0.]], dtype=float32)"
            ]
          },
          "metadata": {},
          "execution_count": 24
        }
      ]
    },
    {
      "cell_type": "code",
      "source": [
        "from keras.models import Sequential\n",
        "from keras.layers import Dense,Conv2D,MaxPool2D,Flatten"
      ],
      "metadata": {
        "id": "Oox2Wy4kgAOf"
      },
      "execution_count": 25,
      "outputs": []
    },
    {
      "cell_type": "code",
      "source": [
        "model = Sequential()\n",
        "model.add(Conv2D(filters = 32,kernel_size = (4,4),input_shape = (28,28,1),activation  = 'relu'))\n",
        "model.add(MaxPool2D(pool_size=(2,2)))\n",
        "model.add(Flatten())\n",
        "model.add(Dense(128,activation = 'relu'))\n",
        "model.add(Dense(10,activation = 'softmax'))"
      ],
      "metadata": {
        "id": "-J_c3CgCgnUZ"
      },
      "execution_count": 26,
      "outputs": []
    },
    {
      "cell_type": "code",
      "source": [
        "model.compile(loss = \"categorical_crossentropy\",optimizer = 'rmsprop',metrics = ['accuracy'])"
      ],
      "metadata": {
        "id": "rCtJOkvBBnRL"
      },
      "execution_count": 27,
      "outputs": []
    },
    {
      "cell_type": "code",
      "source": [
        "model.summary()"
      ],
      "metadata": {
        "colab": {
          "base_uri": "https://localhost:8080/"
        },
        "id": "Jxg1JGXRigg7",
        "outputId": "6fc07aa6-545a-4c0a-9d93-a0e94522fb76"
      },
      "execution_count": 28,
      "outputs": [
        {
          "output_type": "stream",
          "name": "stdout",
          "text": [
            "Model: \"sequential_2\"\n",
            "_________________________________________________________________\n",
            " Layer (type)                Output Shape              Param #   \n",
            "=================================================================\n",
            " conv2d_4 (Conv2D)           (None, 25, 25, 32)        544       \n",
            "                                                                 \n",
            " max_pooling2d (MaxPooling2  (None, 12, 12, 32)        0         \n",
            " D)                                                              \n",
            "                                                                 \n",
            " flatten_2 (Flatten)         (None, 4608)              0         \n",
            "                                                                 \n",
            " dense_4 (Dense)             (None, 128)               589952    \n",
            "                                                                 \n",
            " dense_5 (Dense)             (None, 10)                1290      \n",
            "                                                                 \n",
            "=================================================================\n",
            "Total params: 591786 (2.26 MB)\n",
            "Trainable params: 591786 (2.26 MB)\n",
            "Non-trainable params: 0 (0.00 Byte)\n",
            "_________________________________________________________________\n"
          ]
        }
      ]
    },
    {
      "cell_type": "code",
      "source": [
        "model.fit(x_train,y_train_categorical,epochs=1)"
      ],
      "metadata": {
        "colab": {
          "base_uri": "https://localhost:8080/"
        },
        "id": "Kwvp3ZxXinyO",
        "outputId": "0f7d4c57-3039-4108-a69f-7173a6c03ba5"
      },
      "execution_count": 29,
      "outputs": [
        {
          "output_type": "stream",
          "name": "stdout",
          "text": [
            "1875/1875 [==============================] - 7s 3ms/step - loss: 0.1366 - accuracy: 0.9577\n"
          ]
        },
        {
          "output_type": "execute_result",
          "data": {
            "text/plain": [
              "<keras.src.callbacks.History at 0x7a12b7913310>"
            ]
          },
          "metadata": {},
          "execution_count": 29
        }
      ]
    },
    {
      "cell_type": "code",
      "source": [
        "model.evaluate(x_test,y_test_categorical)"
      ],
      "metadata": {
        "colab": {
          "base_uri": "https://localhost:8080/"
        },
        "id": "U847-Bd8kRxy",
        "outputId": "19d1f273-8f78-4c84-8d60-e4a80d640c55"
      },
      "execution_count": 30,
      "outputs": [
        {
          "output_type": "stream",
          "name": "stdout",
          "text": [
            "313/313 [==============================] - 1s 3ms/step - loss: 0.0493 - accuracy: 0.9838\n"
          ]
        },
        {
          "output_type": "execute_result",
          "data": {
            "text/plain": [
              "[0.049331679940223694, 0.9837999939918518]"
            ]
          },
          "metadata": {},
          "execution_count": 30
        }
      ]
    },
    {
      "cell_type": "code",
      "source": [
        "prediction = model.predict(x_test)\n",
        "prediction_class = np.argmax(prediction,axis = 1)\n",
        "prediction_class"
      ],
      "metadata": {
        "colab": {
          "base_uri": "https://localhost:8080/"
        },
        "id": "G1DbWDQfkWDL",
        "outputId": "d525af67-b247-49c8-ad36-4d27a057e34b"
      },
      "execution_count": 31,
      "outputs": [
        {
          "output_type": "stream",
          "name": "stdout",
          "text": [
            "313/313 [==============================] - 1s 2ms/step\n"
          ]
        },
        {
          "output_type": "execute_result",
          "data": {
            "text/plain": [
              "array([7, 2, 1, ..., 4, 5, 6])"
            ]
          },
          "metadata": {},
          "execution_count": 31
        }
      ]
    },
    {
      "cell_type": "code",
      "source": [
        "from sklearn.metrics import classification_report"
      ],
      "metadata": {
        "id": "YDrxhUkDlXqJ"
      },
      "execution_count": 32,
      "outputs": []
    },
    {
      "cell_type": "code",
      "source": [
        "print(classification_report(y_test,prediction_class))"
      ],
      "metadata": {
        "colab": {
          "base_uri": "https://localhost:8080/"
        },
        "id": "gR1u9qWWlh3p",
        "outputId": "7c03d14f-04e3-4312-b316-6dff7b512ec3"
      },
      "execution_count": 33,
      "outputs": [
        {
          "output_type": "stream",
          "name": "stdout",
          "text": [
            "              precision    recall  f1-score   support\n",
            "\n",
            "           0       0.98      0.99      0.98       980\n",
            "           1       0.99      0.99      0.99      1135\n",
            "           2       0.99      0.99      0.99      1032\n",
            "           3       1.00      0.97      0.98      1010\n",
            "           4       0.99      0.99      0.99       982\n",
            "           5       0.97      0.99      0.98       892\n",
            "           6       0.99      0.98      0.98       958\n",
            "           7       0.99      0.98      0.98      1028\n",
            "           8       0.96      0.98      0.97       974\n",
            "           9       0.98      0.98      0.98      1009\n",
            "\n",
            "    accuracy                           0.98     10000\n",
            "   macro avg       0.98      0.98      0.98     10000\n",
            "weighted avg       0.98      0.98      0.98     10000\n",
            "\n"
          ]
        }
      ]
    },
    {
      "cell_type": "code",
      "source": [
        "model.save('mnist_classification_1.h5')"
      ],
      "metadata": {
        "colab": {
          "base_uri": "https://localhost:8080/"
        },
        "id": "C9ZVABT9nO72",
        "outputId": "f3158673-e053-41c1-dfb6-55da6b893b44"
      },
      "execution_count": 34,
      "outputs": [
        {
          "output_type": "stream",
          "name": "stderr",
          "text": [
            "/usr/local/lib/python3.10/dist-packages/keras/src/engine/training.py:3103: UserWarning: You are saving your model as an HDF5 file via `model.save()`. This file format is considered legacy. We recommend using instead the native Keras format, e.g. `model.save('my_model.keras')`.\n",
            "  saving_api.save_model(\n"
          ]
        }
      ]
    },
    {
      "cell_type": "code",
      "source": [
        "from keras.models import load_model\n",
        "loaded_model = load_model('mnist_classification_1.h5')\n",
        "np.argmax(loaded_model.predict(x_test),axis = 1)"
      ],
      "metadata": {
        "colab": {
          "base_uri": "https://localhost:8080/"
        },
        "id": "_1IDOS17nk4A",
        "outputId": "8fd39cdb-55df-40de-e485-2e3034892926"
      },
      "execution_count": 35,
      "outputs": [
        {
          "output_type": "stream",
          "name": "stdout",
          "text": [
            "313/313 [==============================] - 1s 2ms/step\n"
          ]
        },
        {
          "output_type": "execute_result",
          "data": {
            "text/plain": [
              "array([7, 2, 1, ..., 4, 5, 6])"
            ]
          },
          "metadata": {},
          "execution_count": 35
        }
      ]
    },
    {
      "cell_type": "markdown",
      "source": [
        "\n",
        "\n",
        "### GANs"
      ],
      "metadata": {
        "id": "3unqFbnFvhv4"
      }
    },
    {
      "cell_type": "code",
      "source": [
        "import tensorflow as tf\n",
        "from tensorflow import keras\n",
        "from keras import layers\n",
        "\n",
        "generator = keras.Sequential(\n",
        "    [\n",
        "        keras.Input(shape=(100,)),\n",
        "        layers.Dense(7 * 7 * 256),\n",
        "        layers.Reshape((7, 7, 256)),\n",
        "        layers.Conv2DTranspose(128, kernel_size=5, strides=1, padding=\"same\", activation=\"relu\"),\n",
        "        layers.Conv2DTranspose(64, kernel_size=5, strides=2, padding=\"same\", activation=\"relu\"),\n",
        "        layers.Conv2DTranspose(1, kernel_size=5, strides=2, padding=\"same\", activation=\"tanh\"),\n",
        "    ],\n",
        "    name=\"generator\",\n",
        ")\n",
        "\n",
        "discriminator = keras.Sequential(\n",
        "    [\n",
        "        keras.Input(shape=(28, 28, 1)),\n",
        "        layers.Conv2D(64, kernel_size=5, strides=2, padding=\"same\", activation=keras.layers.LeakyReLU(0.3)),\n",
        "        layers.Dropout(0.3),\n",
        "        layers.Conv2D(128, kernel_size=5, strides=2, padding=\"same\", activation=keras.layers.LeakyReLU(0.3)),\n",
        "        layers.Dropout(0.3),\n",
        "        layers.Flatten(),\n",
        "        layers.Dense(1, activation=\"sigmoid\"),\n",
        "    ],\n",
        "    name=\"discriminator\",\n",
        ")\n",
        "\n",
        "# Combine the generator and discriminator into a single model\n",
        "gan = keras.Sequential([generator, discriminator])\n",
        "\n",
        "# Compile the discriminator\n",
        "discriminator.compile(loss=\"binary_crossentropy\", optimizer=keras.optimizers.Adam(learning_rate=0.0003, beta_1=0.5), metrics=[\"accuracy\"])\n",
        "\n",
        "# Compile the GAN\n",
        "gan.compile(loss=\"binary_crossentropy\", optimizer=keras.optimizers.Adam(learning_rate=0.0003, beta_1=0.5))\n",
        "\n",
        "# Load the MNIST dataset\n",
        "(x_train, _), (_, _) = keras.datasets.mnist.load_data()\n",
        "\n",
        "# Normalize the data\n",
        "x_train = x_train.reshape(-1, 28, 28, 1).astype(\"float32\") / 255.0\n",
        "\n",
        "# Train the GAN\n",
        "epochs = 10\n",
        "batch_size = 128\n",
        "steps_per_epoch = int(x_train.shape[0] / batch_size)\n",
        "for epoch in range(epochs):\n",
        "    print(f\"Epoch {epoch+1}/{epochs}\")\n",
        "    for step in range(steps_per_epoch):\n",
        "        # Generate random noise\n",
        "        noise = tf.random.normal(shape=(batch_size, 100))\n",
        "        # Generate fake images\n",
        "        fake_images = generator(noise)\n",
        "        # Combine real and fake images\n",
        "        combined_images = tf.concat([fake_images, x_train[step * batch_size : (step + 1) * batch_size]], axis=0)\n",
        "        # Labels for real and fake images\n",
        "        labels = tf.concat([tf.zeros((batch_size, 1)), tf.ones((batch_size, 1))], axis=0)\n",
        "        # Add random noise to the labels\n",
        "        labels += 0.05 * tf.random.uniform(tf.shape(labels))\n",
        "        # Train the discriminator\n",
        "        d_loss = discriminator.train_on_batch(combined_images, labels)\n",
        "        # Generate random noise\n",
        "        noise = tf.random.normal(shape=(batch_size, 100))\n",
        "        # Labels for fake images\n",
        "        misleading_labels = tf.ones((batch_size, 1))\n",
        "        # Train the generator\n",
        "        g_loss = gan.train_on_batch(noise, misleading_labels)\n",
        "    print(f\"Discriminator loss: {d_loss}\")\n",
        "    print(f\"Generator loss: {g_loss}\")"
      ],
      "metadata": {
        "id": "d0g1vNh2vhdp",
        "colab": {
          "base_uri": "https://localhost:8080/"
        },
        "outputId": "991c3b54-5c8a-4eb5-be5f-ece0e9e1b616"
      },
      "execution_count": 36,
      "outputs": [
        {
          "output_type": "stream",
          "name": "stdout",
          "text": [
            "Epoch 1/10\n",
            "Discriminator loss: [1.3565024137496948, 0.0]\n",
            "Generator loss: 0.11551545560359955\n",
            "Epoch 2/10\n",
            "Discriminator loss: [1.2830356359481812, 0.0]\n",
            "Generator loss: 0.10844691842794418\n",
            "Epoch 3/10\n",
            "Discriminator loss: [1.2656254768371582, 0.0]\n",
            "Generator loss: 0.10649662464857101\n",
            "Epoch 4/10\n",
            "Discriminator loss: [1.265717625617981, 0.0]\n",
            "Generator loss: 0.10652479529380798\n",
            "Epoch 5/10\n",
            "Discriminator loss: [1.2575180530548096, 0.0]\n",
            "Generator loss: 0.10869041830301285\n",
            "Epoch 6/10\n",
            "Discriminator loss: [1.2653326988220215, 0.0]\n",
            "Generator loss: 0.10478333383798599\n",
            "Epoch 7/10\n",
            "Discriminator loss: [1.28579843044281, 0.0]\n",
            "Generator loss: 0.10381904244422913\n",
            "Epoch 8/10\n",
            "Discriminator loss: [1.2818806171417236, 0.0]\n",
            "Generator loss: 0.10221593081951141\n",
            "Epoch 9/10\n",
            "Discriminator loss: [1.4739283323287964, 0.0]\n",
            "Generator loss: 0.10599066317081451\n",
            "Epoch 10/10\n",
            "Discriminator loss: [1.2793270349502563, 0.0]\n",
            "Generator loss: 0.10265355557203293\n"
          ]
        }
      ]
    },
    {
      "cell_type": "code",
      "source": [
        "import matplotlib.pyplot as plt\n",
        "import numpy as np\n",
        "\n",
        "# Function to generate images based on random noise\n",
        "def generate_images(generator_model, num_images=1):\n",
        "    noise = tf.random.normal(shape=(num_images, 100))\n",
        "    generated_images = generator_model.predict(noise)\n",
        "    return generated_images\n",
        "\n",
        "# Choose the number of images to generate\n",
        "num_images_to_generate = 5\n",
        "\n",
        "# Generate images using the generator\n",
        "generated_images = generate_images(generator, num_images_to_generate)\n",
        "\n",
        "# Display the generated images\n",
        "plt.figure(figsize=(15, 3))\n",
        "for i in range(num_images_to_generate):\n",
        "    plt.subplot(1, num_images_to_generate, i + 1)\n",
        "    plt.imshow(generated_images[i, :, :, 0], cmap='gray')\n",
        "    plt.axis('off')\n",
        "plt.show()"
      ],
      "metadata": {
        "colab": {
          "base_uri": "https://localhost:8080/",
          "height": 254
        },
        "id": "V8YwkE3pva7O",
        "outputId": "6f8cfd51-d8f7-4eec-af5c-2a8f022e75a1"
      },
      "execution_count": 37,
      "outputs": [
        {
          "output_type": "stream",
          "name": "stdout",
          "text": [
            "1/1 [==============================] - 0s 86ms/step\n"
          ]
        },
        {
          "output_type": "display_data",
          "data": {
            "text/plain": [
              "<Figure size 1500x300 with 5 Axes>"
            ],
            "image/png": "[encoded data removed]"
          },
          "metadata": {}
        }
      ]
    },
    {
      "cell_type": "code",
      "source": [
        "import matplotlib.pyplot as plt\n",
        "import numpy as np\n",
        "\n",
        "def interpolate_images(generator_model, num_images=5):\n",
        "    #random noise vectors\n",
        "    noise1 = tf.random.normal(shape=(1, 100))\n",
        "    noise2 = tf.random.normal(shape=(1, 100))\n",
        "\n",
        "    # Interpolation between the two noise vectors\n",
        "    interpolation_factors = np.linspace(0, 1, num_images)\n",
        "    interpolated_noises = [noise1 * (1 - alpha) + noise2 * alpha for alpha in interpolation_factors]\n",
        "\n",
        "    #images for each interpolated noise vector\n",
        "    generated_images = [generator_model.predict(noise) for noise in interpolated_noises]\n",
        "\n",
        "    return generated_images\n",
        "\n",
        "#number of images to generate\n",
        "num_interpolated_images = 5\n",
        "\n",
        "# Generate interpolated images using the generator\n",
        "interpolated_images = interpolate_images(generator, num_interpolated_images)\n",
        "\n",
        "plt.figure(figsize=(15, 3))\n",
        "for i in range(num_interpolated_images):\n",
        "    plt.subplot(1, num_interpolated_images, i + 1)\n",
        "    plt.imshow(interpolated_images[i][0, :, :, 0], cmap='gray')\n",
        "    plt.axis('off')\n",
        "plt.show()\n"
      ],
      "metadata": {
        "id": "5vhdKXjZw21h",
        "colab": {
          "base_uri": "https://localhost:8080/",
          "height": 324
        },
        "outputId": "949395ec-a48b-40a4-c6ae-ea02cb952df2"
      },
      "execution_count": 42,
      "outputs": [
        {
          "output_type": "stream",
          "name": "stdout",
          "text": [
            "1/1 [==============================] - 0s 17ms/step\n",
            "1/1 [==============================] - 0s 16ms/step\n",
            "1/1 [==============================] - 0s 15ms/step\n",
            "1/1 [==============================] - 0s 15ms/step\n",
            "1/1 [==============================] - 0s 15ms/step\n"
          ]
        },
        {
          "output_type": "display_data",
          "data": {
            "text/plain": [
              "<Figure size 1500x300 with 5 Axes>"
            ],
            "image/png": "[encoded data removed]"
          },
          "metadata": {}
        }
      ]
    },
    {
      "cell_type": "code",
      "source": [
        "import cv2\n",
        "\n",
        "def style_transfer(generator_model, content_image_path, num_steps=100, alpha=0.8):\n",
        "    # Load content image\n",
        "    content_image = cv2.imread(content_image_path, cv2.IMREAD_GRAYSCALE)\n",
        "    content_image = cv2.resize(content_image, (28, 28))  #to match the model input size\n",
        "    content_image = content_image.astype('float32') / 255.0\n",
        "    content_image = np.expand_dims(content_image, axis=0)\n",
        "\n",
        "    # Generate a random noise vector\n",
        "    noise = tf.random.normal(shape=(1, 100))\n",
        "\n",
        "    # Generate initial stylized image\n",
        "    stylized_image = generator_model.predict(noise)\n",
        "\n",
        "    for step in range(num_steps):\n",
        "        # stylized image dimensions\n",
        "        stylized_image = stylized_image[:, :28, :28, :]\n",
        "\n",
        "        # difference between the stylized image and the content image\n",
        "        diff = content_image - stylized_image\n",
        "        # Updating the stylized image towards the content image\n",
        "        stylized_image = stylized_image + alpha * diff / num_steps\n",
        "\n",
        "    return stylized_image\n",
        "\n",
        "content_image_path = '/content/win 10.jpg'\n",
        "\n",
        "# Perform style transfer using the generator\n",
        "stylized_image = style_transfer(generator, content_image_path)\n",
        "\n",
        "plt.imshow(stylized_image[0, :, :, 0], cmap='gray')\n",
        "plt.axis('off')\n",
        "plt.show()"
      ],
      "metadata": {
        "id": "2cAyUfHpwxzC",
        "outputId": "58365768-d14a-4c65-8e10-a9f94becfc3b",
        "colab": {
          "base_uri": "https://localhost:8080/",
          "height": 423
        }
      },
      "execution_count": 41,
      "outputs": [
        {
          "output_type": "stream",
          "name": "stdout",
          "text": [
            "1/1 [==============================] - 0s 18ms/step\n"
          ]
        },
        {
          "output_type": "display_data",
          "data": {
            "text/plain": [
              "<Figure size 640x480 with 1 Axes>"
            ],
            "image/png": "[encoded data removed]"
          },
          "metadata": {}
        }
      ]
    }
  ]
}